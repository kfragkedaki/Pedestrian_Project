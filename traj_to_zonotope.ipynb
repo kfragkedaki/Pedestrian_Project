{
 "cells": [
  {
   "cell_type": "code",
   "execution_count": 1,
   "metadata": {},
   "outputs": [
    {
     "name": "stderr",
     "output_type": "stream",
     "text": [
      "/home/sam/Desktop/Pedestrian_Project/.venv/lib/python3.9/site-packages/pypolycontain/operations.py:23: UserWarning: You don't have pydrake installed properly. Methods that rely on optimization may fail.\n",
      "  warnings.warn(\"You don't have pydrake installed properly. Methods that rely on optimization may fail.\")\n",
      "/home/sam/Desktop/Pedestrian_Project/.venv/lib/python3.9/site-packages/pypolycontain/conversions.py:19: UserWarning: WARNING: You don't have CDD package installed. Unable to visualize polytopes. You may still visualize zonotopes.\n",
      "  warnings.warn(\"WARNING: You don't have CDD package installed. Unable to visualize polytopes. You may still visualize zonotopes.\")\n",
      "/home/sam/Desktop/Pedestrian_Project/.venv/lib/python3.9/site-packages/pypolycontain/conversions.py:32: UserWarning: You don't have pydrake installed properly. Methods that rely on optimization may fail.\n",
      "  warnings.warn(\"You don't have pydrake installed properly. Methods that rely on optimization may fail.\")\n",
      "/home/sam/Desktop/Pedestrian_Project/.venv/lib/python3.9/site-packages/pypolycontain/conversions.py:38: UserWarning: You don't have pydrake with SCS solver.\n",
      "  warnings.warn(\"You don't have pydrake with SCS solver.\")\n",
      "/home/sam/Desktop/Pedestrian_Project/.venv/lib/python3.9/site-packages/pypolycontain/containment.py:16: UserWarning: You don't have CDD package installed. Unable to run cone ray generation.\n",
      "  warnings.warn(\"You don't have CDD package installed. Unable to run cone ray generation.\")\n",
      "/home/sam/Desktop/Pedestrian_Project/.venv/lib/python3.9/site-packages/pypolycontain/containment.py:38: UserWarning: You don't have pydrake installed properly. Methods that rely on optimization may fail.\n",
      "  warnings.warn(\"You don't have pydrake installed properly. Methods that rely on optimization may fail.\")\n",
      "/home/sam/Desktop/Pedestrian_Project/.venv/lib/python3.9/site-packages/pypolycontain/projection.py:34: UserWarning: You don't have pydrake installed properly. Methods that rely on optimization may fail.\n",
      "  warnings.warn(\"You don't have pydrake installed properly. Methods that rely on optimization may fail.\")\n",
      "/home/sam/Desktop/Pedestrian_Project/.venv/lib/python3.9/site-packages/tqdm/auto.py:21: TqdmWarning: IProgress not found. Please update jupyter and ipywidgets. See https://ipywidgets.readthedocs.io/en/stable/user_install.html\n",
      "  from .autonotebook import tqdm as notebook_tqdm\n",
      "2024-07-08 18:02:47,278\tINFO util.py:187 -- Missing packages: ['ipywidgets']. Run `pip install -U ipywidgets`, then restart the notebook server for rich notebook output.\n",
      "2024-07-08 18:02:47,410\tINFO util.py:187 -- Missing packages: ['ipywidgets']. Run `pip install -U ipywidgets`, then restart the notebook server for rich notebook output.\n"
     ]
    }
   ],
   "source": [
    "from src.reachability_analysis.simulation import get_test_config, get_test_label, get_cluster, get_initial_conditions, reachability_for_all_modes\n",
    "from src.datasets.data import SVEAData, ROSData\n",
    "from src.transformer_model.model import create_model, evaluate\n",
    "import json\n",
    "import logging\n",
    "import os\n",
    "import rospy\n",
    "from torch.utils.data import DataLoader\n",
    "from src.datasets.data import data_factory, Normalizer\n",
    "from src.datasets.masked_datasets import collate_unsuperv\n",
    "from src.utils.load_data import load_task_datasets\n",
    "\n",
    "\n",
    "logging.basicConfig(\n",
    "    format=\"%(asctime)s | %(levelname)s : %(message)s\", level=logging.INFO\n",
    ")\n",
    "logger = logging.getLogger(__name__)"
   ]
  },
  {
   "cell_type": "code",
   "execution_count": 2,
   "metadata": {},
   "outputs": [],
   "source": [
    "config_path = '/home/sam/Desktop/Pedestrian_Project/experiments/SINDDataset_pretrained_2024-04-27_00-11-45_KIP/configuration.json'\n",
    "\n",
    "with open(config_path) as cnfg:\n",
    "    config = json.load(cnfg)\n",
    "\n",
    "ROOT_RESOURCES = os.getcwd() + \"/resources\"\n",
    "\n",
    "\n",
    "config['original_data'] = False\n",
    "\n",
    "config_test = config.copy()\n",
    "config_test['online_data'] = True\n",
    "config_test['online_data'] = False\n",
    "config_test['pattern'] = None\n",
    "config_test['data_dir'] = '/home/sam/Desktop/Pedestrian_Project/bags'\n",
    "config_test['data_class'] = 'svea'\n",
    "config_test['eval_only'] = True\n",
    "config_test['val_ratio'] = 1"
   ]
  },
  {
   "cell_type": "code",
   "execution_count": 3,
   "metadata": {},
   "outputs": [
    {
     "name": "stderr",
     "output_type": "stream",
     "text": [
      "2024-07-08 18:02:47,622 | INFO : Loading 2 datasets files using 2 parallel processes ...\n"
     ]
    },
    {
     "name": "stdout",
     "output_type": "stream",
     "text": [
      "[INFO]  Data folder /home/sam/Desktop/Pedestrian_Project/bags/ismir_data_2024-06-28-11-56-17 already exists. Not creating.\n",
      "[INFO]  Data folder /home/sam/Desktop/Pedestrian_Project/bags/ismir_data_2024-06-28-11-57-29 already exists. Not creating.\n"
     ]
    }
   ],
   "source": [
    "data_oracle = ROSData(config_test)\n"
   ]
  },
  {
   "cell_type": "code",
   "execution_count": 4,
   "metadata": {},
   "outputs": [],
   "source": [
    "# online_Data = DataLoader(\n",
    "#     dataset=data_oracle.all_df,\n",
    "#     batch_size=config[\"batch_size\"],\n",
    "#     shuffle=False,\n",
    "#     num_workers=config[\"num_workers\"],\n",
    "#     pin_memory=True,\n",
    "#     collate_fn=lambda x: collate_fn(x, max_len=data_oracle.max_seq_len),\n",
    "# )\n",
    "\n",
    "val_data = data_oracle.feature_df\n",
    "\n",
    "# Pre-process features\n",
    "if config_test[\"data_normalization\"] != \"none\":\n",
    "    logger.info(\"Normalizing data ...\")\n",
    "    normalizer = Normalizer(config_test[\"data_normalization\"])\n",
    "    val_data = normalizer.normalize(val_data)\n",
    "\n",
    "\n",
    "task_dataset, collate_fn = load_task_datasets(config_test)\n",
    "val_dataset = task_dataset(data_oracle.feature_df, [0])\n",
    "\n",
    "# TODO there is a problem here\n",
    "\n",
    "# Dataloaders\n",
    "val_loader = DataLoader(\n",
    "    dataset=val_dataset,\n",
    "    batch_size=config_test[\"batch_size\"],\n",
    "    shuffle=False,\n",
    "    num_workers=config_test[\"num_workers\"],\n",
    "    pin_memory=True,\n",
    "    collate_fn=lambda x: collate_fn(x, max_len=data_oracle.max_seq_len),\n",
    ")"
   ]
  },
  {
   "cell_type": "code",
   "execution_count": 5,
   "metadata": {},
   "outputs": [
    {
     "data": {
      "text/plain": [
       "<src.datasets.masked_datasets.ImputationDataset at 0x7fee6d1f3df0>"
      ]
     },
     "execution_count": 5,
     "metadata": {},
     "output_type": "execute_result"
    }
   ],
   "source": [
    "val_loader.dataset"
   ]
  },
  {
   "cell_type": "code",
   "execution_count": 16,
   "metadata": {},
   "outputs": [
    {
     "data": {
      "text/plain": [
       "True"
      ]
     },
     "execution_count": 16,
     "metadata": {},
     "output_type": "execute_result"
    }
   ],
   "source": [
    "config_test['eval_only']"
   ]
  },
  {
   "cell_type": "code",
   "execution_count": 6,
   "metadata": {},
   "outputs": [
    {
     "name": "stderr",
     "output_type": "stream",
     "text": [
      "/home/sam/Desktop/Pedestrian_Project/.venv/lib/python3.9/site-packages/torch/nn/modules/transformer.py:306: UserWarning: enable_nested_tensor is True, but self.use_nested_tensor is False because encoder_layer was not TransformerEncoderLayer\n",
      "  warnings.warn(f\"enable_nested_tensor is True, but self.use_nested_tensor is False because {why_not_sparsity_fast_path}\")\n",
      "2024-07-08 18:02:48,746 | INFO : Model:\n",
      "TSTransformerEncoder(\n",
      "  (project_inp): Linear(in_features=6, out_features=128, bias=True)\n",
      "  (pos_enc): LearnablePositionalEncoding(\n",
      "    (dropout): Dropout(p=0.0, inplace=False)\n",
      "  )\n",
      "  (transformer_encoder): TransformerEncoder(\n",
      "    (layers): ModuleList(\n",
      "      (0-2): 3 x TransformerBatchNormEncoderLayer(\n",
      "        (self_attn): MultiheadAttention(\n",
      "          (out_proj): NonDynamicallyQuantizableLinear(in_features=128, out_features=128, bias=True)\n",
      "        )\n",
      "        (linear1): Linear(in_features=128, out_features=512, bias=True)\n",
      "        (dropout): Dropout(p=0.0, inplace=False)\n",
      "        (linear2): Linear(in_features=512, out_features=128, bias=True)\n",
      "        (norm1): BatchNorm1d(128, eps=1e-05, momentum=0.1, affine=True, track_running_stats=True)\n",
      "        (norm2): BatchNorm1d(128, eps=1e-05, momentum=0.1, affine=True, track_running_stats=True)\n",
      "        (dropout1): Dropout(p=0.0, inplace=False)\n",
      "        (dropout2): Dropout(p=0.0, inplace=False)\n",
      "      )\n",
      "    )\n",
      "  )\n",
      "  (dropout1): Dropout(p=0.0, inplace=False)\n",
      "  (output_layer): Linear(in_features=128, out_features=6, bias=True)\n",
      ")\n",
      "2024-07-08 18:02:48,747 | INFO : Total number of parameters: 602886\n",
      "2024-07-08 18:02:48,748 | INFO : Trainable parameters: 602886\n"
     ]
    }
   ],
   "source": [
    "model, optimizer, trainer, val_evaluator, start_epoch = create_model(\n",
    "    config_test, None, val_loader, data_oracle, logger, device='cpu'\n",
    ")"
   ]
  },
  {
   "cell_type": "code",
   "execution_count": 7,
   "metadata": {},
   "outputs": [
    {
     "data": {
      "text/plain": [
       "(<src.transformer_model.model.UnsupervisedAttentionModel at 0x7fef7c076a30>,\n",
       " <torch.utils.data.dataloader.DataLoader at 0x7fee6d1f3f10>)"
      ]
     },
     "execution_count": 7,
     "metadata": {},
     "output_type": "execute_result"
    }
   ],
   "source": [
    "trainer, val_evaluator.dataloader"
   ]
  },
  {
   "cell_type": "code",
   "execution_count": 8,
   "metadata": {},
   "outputs": [],
   "source": [
    "config_test['eval_only'] = True\n",
    "config_test['val_ratio'] = 1"
   ]
  },
  {
   "cell_type": "code",
   "execution_count": 9,
   "metadata": {},
   "outputs": [
    {
     "name": "stderr",
     "output_type": "stream",
     "text": [
      "2024-07-08 18:02:49,676 | INFO : Evaluation Summary: loss: 386.078698 | \n",
      "2024-07-08 18:02:49,677 | INFO : Evaluation runtime: 0.0 hours, 0.0 minutes, 0.010312318801879883 seconds\n",
      "\n"
     ]
    },
    {
     "name": "stdout",
     "output_type": "stream",
     "text": [
      "Evaluating   0.0% | batch:         0 of         1\t|\tloss: 386.079\n"
     ]
    }
   ],
   "source": [
    "aggr_metrics, embedding_data = evaluate(val_evaluator, config=config_test, save_embeddings=True)\n"
   ]
  },
  {
   "cell_type": "code",
   "execution_count": 10,
   "metadata": {},
   "outputs": [
    {
     "data": {
      "text/plain": [
       "dict_keys(['target_masks', 'targets', 'predictions', 'metrics', 'IDs', 'padding_masks', 'embeddings', 'embeddings_original'])"
      ]
     },
     "execution_count": 10,
     "metadata": {},
     "output_type": "execute_result"
    }
   ],
   "source": [
    "embedding_data.keys()"
   ]
  },
  {
   "cell_type": "code",
   "execution_count": 11,
   "metadata": {},
   "outputs": [
    {
     "data": {
      "text/plain": [
       "1"
      ]
     },
     "execution_count": 11,
     "metadata": {},
     "output_type": "execute_result"
    }
   ],
   "source": [
    "len(embedding_data['embeddings'])"
   ]
  },
  {
   "cell_type": "code",
   "execution_count": 14,
   "metadata": {},
   "outputs": [
    {
     "data": {
      "text/plain": [
       "[(0,)]"
      ]
     },
     "execution_count": 14,
     "metadata": {},
     "output_type": "execute_result"
    }
   ],
   "source": [
    "embedding_data['IDs']"
   ]
  },
  {
   "cell_type": "code",
   "execution_count": 12,
   "metadata": {},
   "outputs": [
    {
     "data": {
      "text/plain": [
       "(1, 50, 128)"
      ]
     },
     "execution_count": 12,
     "metadata": {},
     "output_type": "execute_result"
    }
   ],
   "source": [
    "embedding_data['embeddings'][0].shape"
   ]
  },
  {
   "cell_type": "code",
   "execution_count": 13,
   "metadata": {},
   "outputs": [
    {
     "name": "stderr",
     "output_type": "stream",
     "text": [
      "/home/sam/Desktop/Pedestrian_Project/.venv/lib/python3.9/site-packages/torch/nn/modules/transformer.py:306: UserWarning: enable_nested_tensor is True, but self.use_nested_tensor is False because encoder_layer was not TransformerEncoderLayer\n",
      "  warnings.warn(f\"enable_nested_tensor is True, but self.use_nested_tensor is False because {why_not_sparsity_fast_path}\")\n",
      "2024-07-08 18:02:49,745 | INFO : Model:\n",
      "TSTransformerEncoder(\n",
      "  (project_inp): Linear(in_features=6, out_features=128, bias=True)\n",
      "  (pos_enc): LearnablePositionalEncoding(\n",
      "    (dropout): Dropout(p=0.0, inplace=False)\n",
      "  )\n",
      "  (transformer_encoder): TransformerEncoder(\n",
      "    (layers): ModuleList(\n",
      "      (0-2): 3 x TransformerBatchNormEncoderLayer(\n",
      "        (self_attn): MultiheadAttention(\n",
      "          (out_proj): NonDynamicallyQuantizableLinear(in_features=128, out_features=128, bias=True)\n",
      "        )\n",
      "        (linear1): Linear(in_features=128, out_features=512, bias=True)\n",
      "        (dropout): Dropout(p=0.0, inplace=False)\n",
      "        (linear2): Linear(in_features=512, out_features=128, bias=True)\n",
      "        (norm1): BatchNorm1d(128, eps=1e-05, momentum=0.1, affine=True, track_running_stats=True)\n",
      "        (norm2): BatchNorm1d(128, eps=1e-05, momentum=0.1, affine=True, track_running_stats=True)\n",
      "        (dropout1): Dropout(p=0.0, inplace=False)\n",
      "        (dropout2): Dropout(p=0.0, inplace=False)\n",
      "      )\n",
      "    )\n",
      "  )\n",
      "  (dropout1): Dropout(p=0.0, inplace=False)\n",
      "  (output_layer): Linear(in_features=128, out_features=6, bias=True)\n",
      ")\n",
      "2024-07-08 18:02:49,746 | INFO : Total number of parameters: 602886\n",
      "2024-07-08 18:02:49,747 | INFO : Trainable parameters: 602886\n",
      "2024-07-08 18:02:49,759 | INFO : Evaluation Summary: loss: 183.426471 | \n",
      "2024-07-08 18:02:49,760 | INFO : Evaluation runtime: 0.0 hours, 0.0 minutes, 0.005158185958862305 seconds\n",
      "\n"
     ]
    },
    {
     "name": "stdout",
     "output_type": "stream",
     "text": [
      "Evaluating   0.0% | batch:         0 of         1\t|\tloss: 183.426\n",
      "Load data from: /home/sam/Desktop/Pedestrian_Project/resources\n"
     ]
    },
    {
     "ename": "FileNotFoundError",
     "evalue": "[Errno 2] No such file or directory: '/home/sam/Desktop/Pedestrian_Project/resources/data_embeddings.pkl'",
     "output_type": "error",
     "traceback": [
      "\u001b[0;31m---------------------------------------------------------------------------\u001b[0m",
      "\u001b[0;31mFileNotFoundError\u001b[0m                         Traceback (most recent call last)",
      "Cell \u001b[0;32mIn[13], line 5\u001b[0m\n\u001b[1;32m      2\u001b[0m \u001b[38;5;66;03m# TODO iterate through trajectories\u001b[39;00m\n\u001b[1;32m      4\u001b[0m embedding \u001b[38;5;241m=\u001b[39m embedding_data[\u001b[38;5;124m'\u001b[39m\u001b[38;5;124membeddings\u001b[39m\u001b[38;5;124m'\u001b[39m][\u001b[38;5;241m0\u001b[39m]\u001b[38;5;241m.\u001b[39mshape\n\u001b[0;32m----> 5\u001b[0m c \u001b[38;5;241m=\u001b[39m \u001b[43mget_cluster\u001b[49m\u001b[43m(\u001b[49m\u001b[43mconfig\u001b[49m\u001b[43m,\u001b[49m\u001b[43m \u001b[49m\u001b[43mdata_oracle\u001b[49m\u001b[43m)\u001b[49m \u001b[38;5;66;03m# TODO can you batch with AnnoyModel?\u001b[39;00m\n\u001b[1;32m      6\u001b[0m nn_model \u001b[38;5;241m=\u001b[39m AnnoyModel(config\u001b[38;5;241m=\u001b[39mconfig)\n\u001b[1;32m      7\u001b[0m test_cases \u001b[38;5;241m=\u001b[39m {\u001b[38;5;124mf\u001b[39m\u001b[38;5;124m'\u001b[39m\u001b[38;5;124mc_\u001b[39m\u001b[38;5;132;01m{\u001b[39;00mc\u001b[38;5;132;01m}\u001b[39;00m\u001b[38;5;124m'\u001b[39m: \u001b[38;5;124mf\u001b[39m\u001b[38;5;124m'\u001b[39m\u001b[38;5;124mCluster: \u001b[39m\u001b[38;5;132;01m{\u001b[39;00mc\u001b[38;5;132;01m}\u001b[39;00m\u001b[38;5;124m'\u001b[39m}\n",
      "File \u001b[0;32m~/Desktop/Pedestrian_Project/src/clustering/run.py:167\u001b[0m, in \u001b[0;36mget_cluster\u001b[0;34m(config, data_oracle)\u001b[0m\n\u001b[1;32m    165\u001b[0m \u001b[38;5;28;01mdef\u001b[39;00m \u001b[38;5;21mget_cluster\u001b[39m(config:\u001b[38;5;28mdict\u001b[39m, data_oracle: LabelingOracleSINDData):\n\u001b[1;32m    166\u001b[0m     embedding \u001b[38;5;241m=\u001b[39m get_embedding(config, data_oracle)[\u001b[38;5;124m\"\u001b[39m\u001b[38;5;124membeddings\u001b[39m\u001b[38;5;124m\"\u001b[39m][\u001b[38;5;241m0\u001b[39m]\n\u001b[0;32m--> 167\u001b[0m     nn_model \u001b[38;5;241m=\u001b[39m \u001b[43mAnnoyModel\u001b[49m\u001b[43m(\u001b[49m\u001b[43mconfig\u001b[49m\u001b[38;5;241;43m=\u001b[39;49m\u001b[43mconfig\u001b[49m\u001b[43m)\u001b[49m\n\u001b[1;32m    168\u001b[0m     \u001b[38;5;28;01mreturn\u001b[39;00m nn_model\u001b[38;5;241m.\u001b[39mget(embedding)\n",
      "File \u001b[0;32m~/Desktop/Pedestrian_Project/src/clustering/NearestNeighbor.py:59\u001b[0m, in \u001b[0;36mAnnoyModel.__init__\u001b[0;34m(self, config, n_trees, metric)\u001b[0m\n\u001b[1;32m     58\u001b[0m \u001b[38;5;28;01mdef\u001b[39;00m \u001b[38;5;21m__init__\u001b[39m(\u001b[38;5;28mself\u001b[39m, config\u001b[38;5;241m=\u001b[39m\u001b[38;5;28;01mNone\u001b[39;00m, n_trees\u001b[38;5;241m=\u001b[39m\u001b[38;5;241m10\u001b[39m, metric\u001b[38;5;241m=\u001b[39m\u001b[38;5;124m'\u001b[39m\u001b[38;5;124meuclidean\u001b[39m\u001b[38;5;124m'\u001b[39m):\n\u001b[0;32m---> 59\u001b[0m     \u001b[38;5;28;43msuper\u001b[39;49m\u001b[43m(\u001b[49m\u001b[43m)\u001b[49m\u001b[38;5;241;43m.\u001b[39;49m\u001b[38;5;21;43m__init__\u001b[39;49m\u001b[43m(\u001b[49m\u001b[43mconfig\u001b[49m\u001b[43m)\u001b[49m\n\u001b[1;32m     60\u001b[0m     \u001b[38;5;28mself\u001b[39m\u001b[38;5;241m.\u001b[39mn_trees \u001b[38;5;241m=\u001b[39m n_trees\n\u001b[1;32m     61\u001b[0m     \u001b[38;5;28mself\u001b[39m\u001b[38;5;241m.\u001b[39mmetric \u001b[38;5;241m=\u001b[39m metric\n",
      "File \u001b[0;32m~/Desktop/Pedestrian_Project/src/clustering/NearestNeighbor.py:23\u001b[0m, in \u001b[0;36mApproximateNearestNeighbors.__init__\u001b[0;34m(self, config)\u001b[0m\n\u001b[1;32m     20\u001b[0m \u001b[38;5;28;01melse\u001b[39;00m:\n\u001b[1;32m     21\u001b[0m     \u001b[38;5;28mself\u001b[39m\u001b[38;5;241m.\u001b[39mfile_root \u001b[38;5;241m=\u001b[39m ROOT_RESOURCES\n\u001b[0;32m---> 23\u001b[0m \u001b[38;5;28;43mself\u001b[39;49m\u001b[38;5;241;43m.\u001b[39;49m\u001b[43mload_data\u001b[49m\u001b[43m(\u001b[49m\u001b[43m)\u001b[49m\n",
      "File \u001b[0;32m~/Desktop/Pedestrian_Project/src/clustering/NearestNeighbor.py:48\u001b[0m, in \u001b[0;36mApproximateNearestNeighbors.load_data\u001b[0;34m(self)\u001b[0m\n\u001b[1;32m     46\u001b[0m \u001b[38;5;28;01mdef\u001b[39;00m \u001b[38;5;21mload_data\u001b[39m(\u001b[38;5;28mself\u001b[39m):\n\u001b[1;32m     47\u001b[0m     \u001b[38;5;28mprint\u001b[39m(\u001b[38;5;124m\"\u001b[39m\u001b[38;5;124mLoad data from:\u001b[39m\u001b[38;5;124m\"\u001b[39m, \u001b[38;5;28mself\u001b[39m\u001b[38;5;241m.\u001b[39mfile_root)\n\u001b[0;32m---> 48\u001b[0m     data \u001b[38;5;241m=\u001b[39m \u001b[38;5;28;43mself\u001b[39;49m\u001b[38;5;241;43m.\u001b[39;49m\u001b[43mload\u001b[49m\u001b[43m(\u001b[49m\u001b[38;5;124;43mf\u001b[39;49m\u001b[38;5;124;43m'\u001b[39;49m\u001b[38;5;124;43mdata_\u001b[39;49m\u001b[38;5;132;43;01m{\u001b[39;49;00m\u001b[38;5;124;43m\"\u001b[39;49m\u001b[38;5;124;43moriginal\u001b[39;49m\u001b[38;5;124;43m\"\u001b[39;49m\u001b[38;5;28;43;01mif\u001b[39;49;00m\u001b[38;5;250;43m \u001b[39;49m\u001b[38;5;28;43mself\u001b[39;49m\u001b[38;5;241;43m.\u001b[39;49m\u001b[43moriginal_data\u001b[49m\u001b[38;5;250;43m \u001b[39;49m\u001b[38;5;28;43;01melse\u001b[39;49;00m\u001b[38;5;250;43m \u001b[39;49m\u001b[38;5;124;43m\"\u001b[39;49m\u001b[38;5;124;43membeddings\u001b[39;49m\u001b[38;5;124;43m\"\u001b[39;49m\u001b[38;5;132;43;01m}\u001b[39;49;00m\u001b[38;5;124;43m.pkl\u001b[39;49m\u001b[38;5;124;43m'\u001b[39;49m\u001b[43m)\u001b[49m\n\u001b[1;32m     49\u001b[0m     \u001b[38;5;28mself\u001b[39m\u001b[38;5;241m.\u001b[39mdata \u001b[38;5;241m=\u001b[39m np\u001b[38;5;241m.\u001b[39mmean(data, axis\u001b[38;5;241m=\u001b[39m\u001b[38;5;241m1\u001b[39m) \u001b[38;5;66;03m# pool mean of the embeddings along the time dimension\u001b[39;00m\n\u001b[1;32m     50\u001b[0m     \u001b[38;5;28mself\u001b[39m\u001b[38;5;241m.\u001b[39mdimension \u001b[38;5;241m=\u001b[39m \u001b[38;5;28mself\u001b[39m\u001b[38;5;241m.\u001b[39mdata\u001b[38;5;241m.\u001b[39mshape[\u001b[38;5;241m1\u001b[39m]\n",
      "File \u001b[0;32m~/Desktop/Pedestrian_Project/src/clustering/NearestNeighbor.py:41\u001b[0m, in \u001b[0;36mApproximateNearestNeighbors.load\u001b[0;34m(self, filename)\u001b[0m\n\u001b[1;32m     38\u001b[0m \u001b[38;5;28;01mdef\u001b[39;00m \u001b[38;5;21mload\u001b[39m(\u001b[38;5;28mself\u001b[39m, filename):\n\u001b[1;32m     39\u001b[0m     filepath \u001b[38;5;241m=\u001b[39m os\u001b[38;5;241m.\u001b[39mpath\u001b[38;5;241m.\u001b[39mjoin(\u001b[38;5;28mself\u001b[39m\u001b[38;5;241m.\u001b[39mfile_root, filename)\n\u001b[0;32m---> 41\u001b[0m     \u001b[38;5;28;01mwith\u001b[39;00m \u001b[38;5;28;43mopen\u001b[39;49m\u001b[43m(\u001b[49m\u001b[43mfilepath\u001b[49m\u001b[43m,\u001b[49m\u001b[43m \u001b[49m\u001b[38;5;124;43m'\u001b[39;49m\u001b[38;5;124;43mrb\u001b[39;49m\u001b[38;5;124;43m'\u001b[39;49m\u001b[43m)\u001b[49m \u001b[38;5;28;01mas\u001b[39;00m file:\n\u001b[1;32m     42\u001b[0m         data \u001b[38;5;241m=\u001b[39m pickle\u001b[38;5;241m.\u001b[39mload(file)\n\u001b[1;32m     44\u001b[0m     \u001b[38;5;28;01mreturn\u001b[39;00m data\n",
      "\u001b[0;31mFileNotFoundError\u001b[0m: [Errno 2] No such file or directory: '/home/sam/Desktop/Pedestrian_Project/resources/data_embeddings.pkl'"
     ]
    }
   ],
   "source": [
    "output = []\n",
    "# TODO iterate through trajectories\n",
    "\n",
    "embedding = embedding_data['embeddings'][0].shape\n",
    "c = get_cluster(config, data_oracle) # TODO can you batch with AnnoyModel?\n",
    "nn_model = AnnoyModel(config=config)\n",
    "test_cases = {f'c_{c}': f'Cluster: {c}'}\n",
    "pos, v = get_initial_conditions(trajectory)\n",
    "z, l, _b, _z = reachability_for_all_modes(pos=pos, vel=v, baseline=False, test_cases=test_cases, config=config, trajectory=trajectory, show_plot=True, save_plot=None)\n",
    "\n",
    "\n",
    "\n",
    "    # output.append(z[0])"
   ]
  }
 ],
 "metadata": {
  "kernelspec": {
   "display_name": ".venv",
   "language": "python",
   "name": "python3"
  },
  "language_info": {
   "codemirror_mode": {
    "name": "ipython",
    "version": 3
   },
   "file_extension": ".py",
   "mimetype": "text/x-python",
   "name": "python",
   "nbconvert_exporter": "python",
   "pygments_lexer": "ipython3",
   "version": "3.9.5"
  }
 },
 "nbformat": 4,
 "nbformat_minor": 2
}
