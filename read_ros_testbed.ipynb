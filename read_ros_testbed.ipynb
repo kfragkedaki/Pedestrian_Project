{
 "cells": [
  {
   "cell_type": "code",
   "execution_count": 4,
   "metadata": {},
   "outputs": [],
   "source": [
    "from src.datasets.data import ROSData"
   ]
  },
  {
   "cell_type": "code",
   "execution_count": 5,
   "metadata": {},
   "outputs": [
    {
     "data": {
      "text/plain": [
       "<function src.datasets.data.ROSData.read_data(filepath)>"
      ]
     },
     "execution_count": 5,
     "metadata": {},
     "output_type": "execute_result"
    }
   ],
   "source": [
    "ROSData.read_data"
   ]
  },
  {
   "cell_type": "code",
   "execution_count": 6,
   "metadata": {},
   "outputs": [
    {
     "name": "stdout",
     "output_type": "stream",
     "text": [
      "[INFO]  Data folder /home/sam/Desktop/Pedestrian_Project/bags/ismir_data_2024-06-28-11-56-17 already exists. Not creating.\n"
     ]
    },
    {
     "data": {
      "text/html": [
       "<div>\n",
       "<style scoped>\n",
       "    .dataframe tbody tr th:only-of-type {\n",
       "        vertical-align: middle;\n",
       "    }\n",
       "\n",
       "    .dataframe tbody tr th {\n",
       "        vertical-align: top;\n",
       "    }\n",
       "\n",
       "    .dataframe thead th {\n",
       "        text-align: right;\n",
       "    }\n",
       "</style>\n",
       "<table border=\"1\" class=\"dataframe\">\n",
       "  <thead>\n",
       "    <tr style=\"text-align: right;\">\n",
       "      <th></th>\n",
       "      <th>track_id</th>\n",
       "      <th>frame_id</th>\n",
       "      <th>timestamp_ms</th>\n",
       "      <th>x</th>\n",
       "      <th>y</th>\n",
       "      <th>vx</th>\n",
       "      <th>vy</th>\n",
       "      <th>ax</th>\n",
       "      <th>ay</th>\n",
       "      <th>file_id</th>\n",
       "    </tr>\n",
       "  </thead>\n",
       "  <tbody>\n",
       "    <tr>\n",
       "      <th>0</th>\n",
       "      <td>45</td>\n",
       "      <td>0</td>\n",
       "      <td>0.000000</td>\n",
       "      <td>-13.383046</td>\n",
       "      <td>1.136074</td>\n",
       "      <td>0.008757</td>\n",
       "      <td>0.019932</td>\n",
       "      <td>0.042800</td>\n",
       "      <td>0.024947</td>\n",
       "      <td>ismir_data_2024-06-28-11-56-17.bag</td>\n",
       "    </tr>\n",
       "    <tr>\n",
       "      <th>2</th>\n",
       "      <td>45</td>\n",
       "      <td>1</td>\n",
       "      <td>66.482910</td>\n",
       "      <td>-13.385497</td>\n",
       "      <td>1.136403</td>\n",
       "      <td>0.020700</td>\n",
       "      <td>0.005134</td>\n",
       "      <td>0.053978</td>\n",
       "      <td>0.009955</td>\n",
       "      <td>ismir_data_2024-06-28-11-56-17.bag</td>\n",
       "    </tr>\n",
       "    <tr>\n",
       "      <th>4</th>\n",
       "      <td>45</td>\n",
       "      <td>2</td>\n",
       "      <td>133.242920</td>\n",
       "      <td>-13.382474</td>\n",
       "      <td>1.119420</td>\n",
       "      <td>0.051725</td>\n",
       "      <td>0.016747</td>\n",
       "      <td>0.092773</td>\n",
       "      <td>0.019228</td>\n",
       "      <td>ismir_data_2024-06-28-11-56-17.bag</td>\n",
       "    </tr>\n",
       "    <tr>\n",
       "      <th>6</th>\n",
       "      <td>45</td>\n",
       "      <td>3</td>\n",
       "      <td>266.496094</td>\n",
       "      <td>-13.376705</td>\n",
       "      <td>1.133557</td>\n",
       "      <td>0.040348</td>\n",
       "      <td>0.019027</td>\n",
       "      <td>0.080760</td>\n",
       "      <td>0.024198</td>\n",
       "      <td>ismir_data_2024-06-28-11-56-17.bag</td>\n",
       "    </tr>\n",
       "    <tr>\n",
       "      <th>8</th>\n",
       "      <td>45</td>\n",
       "      <td>4</td>\n",
       "      <td>333.232910</td>\n",
       "      <td>-13.383220</td>\n",
       "      <td>1.134427</td>\n",
       "      <td>0.046126</td>\n",
       "      <td>0.014456</td>\n",
       "      <td>0.084267</td>\n",
       "      <td>0.012014</td>\n",
       "      <td>ismir_data_2024-06-28-11-56-17.bag</td>\n",
       "    </tr>\n",
       "    <tr>\n",
       "      <th>...</th>\n",
       "      <td>...</td>\n",
       "      <td>...</td>\n",
       "      <td>...</td>\n",
       "      <td>...</td>\n",
       "      <td>...</td>\n",
       "      <td>...</td>\n",
       "      <td>...</td>\n",
       "      <td>...</td>\n",
       "      <td>...</td>\n",
       "      <td>...</td>\n",
       "    </tr>\n",
       "    <tr>\n",
       "      <th>849</th>\n",
       "      <td>49</td>\n",
       "      <td>424</td>\n",
       "      <td>32467.468018</td>\n",
       "      <td>-9.398753</td>\n",
       "      <td>0.430597</td>\n",
       "      <td>0.757325</td>\n",
       "      <td>0.620796</td>\n",
       "      <td>-0.630134</td>\n",
       "      <td>-0.649397</td>\n",
       "      <td>ismir_data_2024-06-28-11-56-17.bag</td>\n",
       "    </tr>\n",
       "    <tr>\n",
       "      <th>851</th>\n",
       "      <td>49</td>\n",
       "      <td>425</td>\n",
       "      <td>32534.315918</td>\n",
       "      <td>-9.398753</td>\n",
       "      <td>0.430597</td>\n",
       "      <td>0.757325</td>\n",
       "      <td>0.620796</td>\n",
       "      <td>-0.630134</td>\n",
       "      <td>-0.649397</td>\n",
       "      <td>ismir_data_2024-06-28-11-56-17.bag</td>\n",
       "    </tr>\n",
       "    <tr>\n",
       "      <th>853</th>\n",
       "      <td>49</td>\n",
       "      <td>426</td>\n",
       "      <td>32600.937988</td>\n",
       "      <td>-9.398753</td>\n",
       "      <td>0.430597</td>\n",
       "      <td>0.757325</td>\n",
       "      <td>0.620796</td>\n",
       "      <td>-0.630134</td>\n",
       "      <td>-0.649397</td>\n",
       "      <td>ismir_data_2024-06-28-11-56-17.bag</td>\n",
       "    </tr>\n",
       "    <tr>\n",
       "      <th>855</th>\n",
       "      <td>49</td>\n",
       "      <td>427</td>\n",
       "      <td>32667.457031</td>\n",
       "      <td>-9.398753</td>\n",
       "      <td>0.430597</td>\n",
       "      <td>0.757325</td>\n",
       "      <td>0.620796</td>\n",
       "      <td>-0.630134</td>\n",
       "      <td>-0.649397</td>\n",
       "      <td>ismir_data_2024-06-28-11-56-17.bag</td>\n",
       "    </tr>\n",
       "    <tr>\n",
       "      <th>857</th>\n",
       "      <td>49</td>\n",
       "      <td>428</td>\n",
       "      <td>32767.438965</td>\n",
       "      <td>-9.398753</td>\n",
       "      <td>0.430597</td>\n",
       "      <td>0.757325</td>\n",
       "      <td>0.620796</td>\n",
       "      <td>-0.630134</td>\n",
       "      <td>-0.649397</td>\n",
       "      <td>ismir_data_2024-06-28-11-56-17.bag</td>\n",
       "    </tr>\n",
       "  </tbody>\n",
       "</table>\n",
       "<p>903 rows × 10 columns</p>\n",
       "</div>"
      ],
      "text/plain": [
       "     track_id  frame_id  timestamp_ms          x         y        vx  \\\n",
       "0          45         0      0.000000 -13.383046  1.136074  0.008757   \n",
       "2          45         1     66.482910 -13.385497  1.136403  0.020700   \n",
       "4          45         2    133.242920 -13.382474  1.119420  0.051725   \n",
       "6          45         3    266.496094 -13.376705  1.133557  0.040348   \n",
       "8          45         4    333.232910 -13.383220  1.134427  0.046126   \n",
       "..        ...       ...           ...        ...       ...       ...   \n",
       "849        49       424  32467.468018  -9.398753  0.430597  0.757325   \n",
       "851        49       425  32534.315918  -9.398753  0.430597  0.757325   \n",
       "853        49       426  32600.937988  -9.398753  0.430597  0.757325   \n",
       "855        49       427  32667.457031  -9.398753  0.430597  0.757325   \n",
       "857        49       428  32767.438965  -9.398753  0.430597  0.757325   \n",
       "\n",
       "           vy        ax        ay                             file_id  \n",
       "0    0.019932  0.042800  0.024947  ismir_data_2024-06-28-11-56-17.bag  \n",
       "2    0.005134  0.053978  0.009955  ismir_data_2024-06-28-11-56-17.bag  \n",
       "4    0.016747  0.092773  0.019228  ismir_data_2024-06-28-11-56-17.bag  \n",
       "6    0.019027  0.080760  0.024198  ismir_data_2024-06-28-11-56-17.bag  \n",
       "8    0.014456  0.084267  0.012014  ismir_data_2024-06-28-11-56-17.bag  \n",
       "..        ...       ...       ...                                 ...  \n",
       "849  0.620796 -0.630134 -0.649397  ismir_data_2024-06-28-11-56-17.bag  \n",
       "851  0.620796 -0.630134 -0.649397  ismir_data_2024-06-28-11-56-17.bag  \n",
       "853  0.620796 -0.630134 -0.649397  ismir_data_2024-06-28-11-56-17.bag  \n",
       "855  0.620796 -0.630134 -0.649397  ismir_data_2024-06-28-11-56-17.bag  \n",
       "857  0.620796 -0.630134 -0.649397  ismir_data_2024-06-28-11-56-17.bag  \n",
       "\n",
       "[903 rows x 10 columns]"
      ]
     },
     "execution_count": 6,
     "metadata": {},
     "output_type": "execute_result"
    }
   ],
   "source": [
    "ROSData.read_data('/home/sam/Desktop/Pedestrian_Project/bags/ismir_data_2024-06-28-11-56-17.bag')"
   ]
  },
  {
   "cell_type": "code",
   "execution_count": 4,
   "metadata": {},
   "outputs": [],
   "source": [
    "from src.datasets.data import ROSData"
   ]
  },
  {
   "cell_type": "code",
   "execution_count": 5,
   "metadata": {},
   "outputs": [
    {
     "data": {
      "text/plain": [
       "<function src.datasets.data.ROSData.parse_row_to_df(row)>"
      ]
     },
     "execution_count": 5,
     "metadata": {},
     "output_type": "execute_result"
    }
   ],
   "source": [
    "ROSData.parse_row_to_df"
   ]
  },
  {
   "cell_type": "code",
   "execution_count": 9,
   "metadata": {},
   "outputs": [
    {
     "name": "stdout",
     "output_type": "stream",
     "text": [
      "[INFO]  Data folder /home/sam/Desktop/Pedestrian_Project/bags/ismir_data_2024-06-28-11-56-17 already exists. Not creating.\n",
      "[INFO]  Data folder /home/sam/Desktop/Pedestrian_Project/bags/ismir_data_2024-06-28-11-57-29 already exists. Not creating.\n"
     ]
    }
   ],
   "source": [
    "# ROSData.read_data('/home/sam/Desktop/Pedestrian_Project/ismir_data_2024-06-28-11-56-17.bag')\n",
    "\n",
    "import json\n",
    "\n",
    "config_path = '/home/sam/Desktop/Pedestrian_Project/experiments/SINDDataset_pretrained_2024-04-27_00-11-45_KIP/configuration.json'\n",
    "\n",
    "with open(config_path) as cnfg:\n",
    "    config = json.load(cnfg)\n",
    "\n",
    "config['online_data'] = False\n",
    "config['pattern'] = None\n",
    "config['data_dir'] = '/home/sam/Desktop/Pedestrian_Project/bags'\n",
    "\n",
    "rd = ROSData(config)"
   ]
  },
  {
   "cell_type": "code",
   "execution_count": 11,
   "metadata": {},
   "outputs": [
    {
     "data": {
      "text/html": [
       "<div>\n",
       "<style scoped>\n",
       "    .dataframe tbody tr th:only-of-type {\n",
       "        vertical-align: middle;\n",
       "    }\n",
       "\n",
       "    .dataframe tbody tr th {\n",
       "        vertical-align: top;\n",
       "    }\n",
       "\n",
       "    .dataframe thead th {\n",
       "        text-align: right;\n",
       "    }\n",
       "</style>\n",
       "<table border=\"1\" class=\"dataframe\">\n",
       "  <thead>\n",
       "    <tr style=\"text-align: right;\">\n",
       "      <th></th>\n",
       "      <th>x</th>\n",
       "      <th>y</th>\n",
       "      <th>vx</th>\n",
       "      <th>vy</th>\n",
       "      <th>ax</th>\n",
       "      <th>ay</th>\n",
       "    </tr>\n",
       "    <tr>\n",
       "      <th>data_chunk_len</th>\n",
       "      <th></th>\n",
       "      <th></th>\n",
       "      <th></th>\n",
       "      <th></th>\n",
       "      <th></th>\n",
       "      <th></th>\n",
       "    </tr>\n",
       "  </thead>\n",
       "  <tbody>\n",
       "    <tr>\n",
       "      <th>0</th>\n",
       "      <td>-9.770451</td>\n",
       "      <td>1.083144</td>\n",
       "      <td>0.021307</td>\n",
       "      <td>-0.023497</td>\n",
       "      <td>0.027114</td>\n",
       "      <td>-0.024812</td>\n",
       "    </tr>\n",
       "    <tr>\n",
       "      <th>0</th>\n",
       "      <td>-9.762049</td>\n",
       "      <td>1.080891</td>\n",
       "      <td>0.030510</td>\n",
       "      <td>0.005024</td>\n",
       "      <td>0.030709</td>\n",
       "      <td>-0.007819</td>\n",
       "    </tr>\n",
       "    <tr>\n",
       "      <th>0</th>\n",
       "      <td>-9.770004</td>\n",
       "      <td>1.082377</td>\n",
       "      <td>0.014558</td>\n",
       "      <td>-0.023873</td>\n",
       "      <td>-0.007277</td>\n",
       "      <td>-0.050153</td>\n",
       "    </tr>\n",
       "    <tr>\n",
       "      <th>0</th>\n",
       "      <td>-9.769067</td>\n",
       "      <td>1.080764</td>\n",
       "      <td>0.033229</td>\n",
       "      <td>-0.007364</td>\n",
       "      <td>0.041001</td>\n",
       "      <td>-0.005857</td>\n",
       "    </tr>\n",
       "    <tr>\n",
       "      <th>0</th>\n",
       "      <td>-9.775910</td>\n",
       "      <td>1.080351</td>\n",
       "      <td>0.033520</td>\n",
       "      <td>-0.029859</td>\n",
       "      <td>0.017511</td>\n",
       "      <td>-0.052715</td>\n",
       "    </tr>\n",
       "    <tr>\n",
       "      <th>...</th>\n",
       "      <td>...</td>\n",
       "      <td>...</td>\n",
       "      <td>...</td>\n",
       "      <td>...</td>\n",
       "      <td>...</td>\n",
       "      <td>...</td>\n",
       "    </tr>\n",
       "    <tr>\n",
       "      <th>43</th>\n",
       "      <td>-9.398753</td>\n",
       "      <td>0.430597</td>\n",
       "      <td>0.757325</td>\n",
       "      <td>0.620796</td>\n",
       "      <td>-0.630134</td>\n",
       "      <td>-0.649397</td>\n",
       "    </tr>\n",
       "    <tr>\n",
       "      <th>43</th>\n",
       "      <td>-9.398753</td>\n",
       "      <td>0.430597</td>\n",
       "      <td>0.757325</td>\n",
       "      <td>0.620796</td>\n",
       "      <td>-0.630134</td>\n",
       "      <td>-0.649397</td>\n",
       "    </tr>\n",
       "    <tr>\n",
       "      <th>43</th>\n",
       "      <td>-9.398753</td>\n",
       "      <td>0.430597</td>\n",
       "      <td>0.757325</td>\n",
       "      <td>0.620796</td>\n",
       "      <td>-0.630134</td>\n",
       "      <td>-0.649397</td>\n",
       "    </tr>\n",
       "    <tr>\n",
       "      <th>43</th>\n",
       "      <td>-9.398753</td>\n",
       "      <td>0.430597</td>\n",
       "      <td>0.757325</td>\n",
       "      <td>0.620796</td>\n",
       "      <td>-0.630134</td>\n",
       "      <td>-0.649397</td>\n",
       "    </tr>\n",
       "    <tr>\n",
       "      <th>43</th>\n",
       "      <td>-9.398753</td>\n",
       "      <td>0.430597</td>\n",
       "      <td>0.757325</td>\n",
       "      <td>0.620796</td>\n",
       "      <td>-0.630134</td>\n",
       "      <td>-0.649397</td>\n",
       "    </tr>\n",
       "  </tbody>\n",
       "</table>\n",
       "<p>2117 rows × 6 columns</p>\n",
       "</div>"
      ],
      "text/plain": [
       "                       x         y        vx        vy        ax        ay\n",
       "data_chunk_len                                                            \n",
       "0              -9.770451  1.083144  0.021307 -0.023497  0.027114 -0.024812\n",
       "0              -9.762049  1.080891  0.030510  0.005024  0.030709 -0.007819\n",
       "0              -9.770004  1.082377  0.014558 -0.023873 -0.007277 -0.050153\n",
       "0              -9.769067  1.080764  0.033229 -0.007364  0.041001 -0.005857\n",
       "0              -9.775910  1.080351  0.033520 -0.029859  0.017511 -0.052715\n",
       "...                  ...       ...       ...       ...       ...       ...\n",
       "43             -9.398753  0.430597  0.757325  0.620796 -0.630134 -0.649397\n",
       "43             -9.398753  0.430597  0.757325  0.620796 -0.630134 -0.649397\n",
       "43             -9.398753  0.430597  0.757325  0.620796 -0.630134 -0.649397\n",
       "43             -9.398753  0.430597  0.757325  0.620796 -0.630134 -0.649397\n",
       "43             -9.398753  0.430597  0.757325  0.620796 -0.630134 -0.649397\n",
       "\n",
       "[2117 rows x 6 columns]"
      ]
     },
     "execution_count": 11,
     "metadata": {},
     "output_type": "execute_result"
    }
   ],
   "source": [
    "rd.feature_df"
   ]
  },
  {
   "cell_type": "code",
   "execution_count": null,
   "metadata": {},
   "outputs": [],
   "source": [
    "rd.ch"
   ]
  },
  {
   "cell_type": "code",
   "execution_count": 8,
   "metadata": {},
   "outputs": [
    {
     "name": "stdout",
     "output_type": "stream",
     "text": [
      "[INFO]  Data folder /home/sam/Desktop/Pedestrian_Project/bags/ismir_data_2024-06-28-11-56-17 already exists. Not creating.\n",
      "[INFO]  Data folder /home/sam/Desktop/Pedestrian_Project/bags/ismir_data_2024-06-28-11-57-29 already exists. Not creating.\n"
     ]
    },
    {
     "data": {
      "text/plain": [
       "Index(['track_id', 'timestamp_ms', 'x', 'y', 'vx', 'vy', 'ax', 'ay'], dtype='object')"
      ]
     },
     "execution_count": 8,
     "metadata": {},
     "output_type": "execute_result"
    }
   ],
   "source": [
    "rd.load_all('/home/sam/Desktop/Pedestrian_Project/bags').columns"
   ]
  },
  {
   "cell_type": "code",
   "execution_count": 10,
   "metadata": {},
   "outputs": [
    {
     "data": {
      "text/plain": [
       "Index(['track_id', 'timestamp_ms', 'x', 'y', 'vx', 'vy', 'ax', 'ay',\n",
       "       'chunk_idx', 'unique_int_id'],\n",
       "      dtype='object')"
      ]
     },
     "execution_count": 10,
     "metadata": {},
     "output_type": "execute_result"
    }
   ],
   "source": [
    "rd.all_df.columns"
   ]
  },
  {
   "cell_type": "code",
   "execution_count": null,
   "metadata": {},
   "outputs": [],
   "source": []
  }
 ],
 "metadata": {
  "kernelspec": {
   "display_name": ".venv",
   "language": "python",
   "name": "python3"
  },
  "language_info": {
   "codemirror_mode": {
    "name": "ipython",
    "version": 3
   },
   "file_extension": ".py",
   "mimetype": "text/x-python",
   "name": "python",
   "nbconvert_exporter": "python",
   "pygments_lexer": "ipython3",
   "version": "3.9.5"
  }
 },
 "nbformat": 4,
 "nbformat_minor": 2
}
