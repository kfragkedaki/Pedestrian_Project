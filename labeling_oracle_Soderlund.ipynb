{
 "cells": [
  {
   "cell_type": "code",
   "execution_count": 1,
   "metadata": {},
   "outputs": [],
   "source": [
    "from src.reachability_analysis.labeling_oracle import LabelingOracleSINDData, LABELS\n",
    "import matplotlib.pyplot as plt\n",
    "import pandas as pd\n",
    "import os\n",
    "import numpy as np\n"
   ]
  },
  {
   "cell_type": "code",
   "execution_count": 2,
   "metadata": {},
   "outputs": [
    {
     "name": "stderr",
     "output_type": "stream",
     "text": [
      "/home/kfragkedaki/miniconda3/envs/pedestrian_project/lib/python3.9/site-packages/pypolycontain/operations.py:23: UserWarning: You don't have pydrake installed properly. Methods that rely on optimization may fail.\n",
      "  warnings.warn(\"You don't have pydrake installed properly. Methods that rely on optimization may fail.\")\n",
      "/home/kfragkedaki/miniconda3/envs/pedestrian_project/lib/python3.9/site-packages/pypolycontain/conversions.py:19: UserWarning: WARNING: You don't have CDD package installed. Unable to visualize polytopes. You may still visualize zonotopes.\n",
      "  warnings.warn(\"WARNING: You don't have CDD package installed. Unable to visualize polytopes. You may still visualize zonotopes.\")\n",
      "/home/kfragkedaki/miniconda3/envs/pedestrian_project/lib/python3.9/site-packages/pypolycontain/conversions.py:32: UserWarning: You don't have pydrake installed properly. Methods that rely on optimization may fail.\n",
      "  warnings.warn(\"You don't have pydrake installed properly. Methods that rely on optimization may fail.\")\n",
      "/home/kfragkedaki/miniconda3/envs/pedestrian_project/lib/python3.9/site-packages/pypolycontain/conversions.py:38: UserWarning: You don't have pydrake with SCS solver.\n",
      "  warnings.warn(\"You don't have pydrake with SCS solver.\")\n",
      "/home/kfragkedaki/miniconda3/envs/pedestrian_project/lib/python3.9/site-packages/pypolycontain/containment.py:16: UserWarning: You don't have CDD package installed. Unable to run cone ray generation.\n",
      "  warnings.warn(\"You don't have CDD package installed. Unable to run cone ray generation.\")\n",
      "/home/kfragkedaki/miniconda3/envs/pedestrian_project/lib/python3.9/site-packages/pypolycontain/containment.py:38: UserWarning: You don't have pydrake installed properly. Methods that rely on optimization may fail.\n",
      "  warnings.warn(\"You don't have pydrake installed properly. Methods that rely on optimization may fail.\")\n",
      "/home/kfragkedaki/miniconda3/envs/pedestrian_project/lib/python3.9/site-packages/pypolycontain/projection.py:34: UserWarning: You don't have pydrake installed properly. Methods that rely on optimization may fail.\n",
      "  warnings.warn(\"You don't have pydrake installed properly. Methods that rely on optimization may fail.\")\n"
     ]
    }
   ],
   "source": [
    "from src.reachability_analysis.simulation import reachability_for_specific_position_and_mode\n",
    "from src.reachability_analysis.zonotope import zonotope\n",
    "from src.reachability_analysis.operations import visualize_zonotopes\n",
    "from src.reachability_analysis.utils import filter_paddings\n",
    "\n",
    "from typing import List, Union\n",
    "import pypolycontain as pp"
   ]
  },
  {
   "cell_type": "code",
   "execution_count": 3,
   "metadata": {},
   "outputs": [],
   "source": [
    "ROOT = os.getcwd()"
   ]
  },
  {
   "cell_type": "code",
   "execution_count": 4,
   "metadata": {},
   "outputs": [],
   "source": [
    "def structure_input_data(data: np.ndarray, labels: np.ndarray):\n",
    "    \"\"\"Drops random trajectories such that the data for each class\n",
    "    is of the same length\n",
    "\n",
    "    Parameters:\n",
    "    -----------\n",
    "    data : np.ndarray\n",
    "        The chunks from the dataset\n",
    "    labels: np.ndarray\n",
    "        The true labels for the data\n",
    "    \"\"\"\n",
    "    _d = {}.fromkeys(labels)\n",
    "    [_d.update({i: []}) for i in _d.keys()]\n",
    "    [_d[_l].append(data[i]) for i, _l in enumerate(labels)]\n",
    "    _lens = [len(v) for v in _d.values()]\n",
    "    _min_len = min(_lens)\n",
    "    new_d = []\n",
    "    new_l = []\n",
    "    for _l, _v in _d.items():\n",
    "        _v = np.array(_v)\n",
    "        _ids = np.random.randint(0, len(_v), size=_min_len)\n",
    "        new_d = [*new_d, *_v[_ids]]\n",
    "        new_l = [*new_l, *[_l] * _min_len]\n",
    "    return np.array(new_d), np.array(new_l)"
   ]
  },
  {
   "cell_type": "code",
   "execution_count": 5,
   "metadata": {},
   "outputs": [],
   "source": [
    "def separate_data_to_class(data: np.ndarray, classification: np.ndarray) -> np.ndarray:\n",
    "    \"\"\" Separate the entire dataset into a list[list] where each nested list contain \n",
    "        the trajectories for that specific class.\n",
    "\n",
    "        Parameters:\n",
    "        -----------\n",
    "        data : np.ndarray\n",
    "            The entire dataset\n",
    "        classification : np.ndarray\n",
    "            The labels from the classification framework for the dataset in data\n",
    "    \"\"\"\n",
    "    _class = [0] * len(LABELS)\n",
    "    for _i in range(len(_class)): _class[_i] = []\n",
    "    for i,_trajectory in enumerate(data):\n",
    "        _class[classification[i]].append(_trajectory)\n",
    "    return np.array(_class)\n"
   ]
  },
  {
   "cell_type": "markdown",
   "metadata": {},
   "source": [
    "### My Data"
   ]
  },
  {
   "cell_type": "code",
   "execution_count": 40,
   "metadata": {},
   "outputs": [],
   "source": [
    "# experiments/SINDDataset_pretrained_2024-04-19_22-22-05_bvW/checkpoints/model_best.pth\n",
    "model_file = 'SINDDataset_pretrained_2024-04-19_22-22-05_bvW'\n",
    "\n",
    "index = 2\n",
    "index_data = 0\n",
    "folder = 'experiments'"
   ]
  },
  {
   "cell_type": "code",
   "execution_count": 41,
   "metadata": {},
   "outputs": [],
   "source": [
    "import json\n",
    "\n",
    "with open(f'{folder}/{model_file}/configuration.json') as f:\n",
    "    config = json.load(f)\n",
    "    config['save_dir'] = ROOT + f'/{folder}/' + config['save_dir'].split('/', index)[-1]\n",
    "    config['output_dir'] = ROOT + f'/{folder}/' + config['output_dir'].split('/', index)[-1]  + '/eval'\n",
    "    config['tensorboard_dir'] = ROOT + f'/{folder}/' + config['tensorboard_dir'].split('/', index)[-1] + '/eval'\n",
    "    config['data_dir'] = ROOT + '/' + config['data_dir'].split('/', index_data)[-1]\n",
    "    config['load_model'] = config['save_dir'] +'/model_best.pth'\n",
    "    config['eval_only'] = True\n",
    "    config['save_embeddings'] = True\n",
    "    config['val_ratio'] = 1.0\n",
    "    config['dropout'] = 0.0  # No dropout during evaluation\n",
    "    config['hyperparameter_tuning'] = False\n",
    "    \n",
    "config['data_chunk_len'] = 90"
   ]
  },
  {
   "cell_type": "code",
   "execution_count": 42,
   "metadata": {},
   "outputs": [
    {
     "name": "stderr",
     "output_type": "stream",
     "text": [
      "2024-04-24 11:46:33,733 | INFO : Loading 24 datasets files using 20 parallel processes ...\n"
     ]
    }
   ],
   "source": [
    "labeling_oracle = LabelingOracleSINDData(config)"
   ]
  },
  {
   "cell_type": "code",
   "execution_count": 43,
   "metadata": {},
   "outputs": [],
   "source": [
    "dataset, padded_chunks = labeling_oracle.create_chunks()"
   ]
  },
  {
   "cell_type": "code",
   "execution_count": 44,
   "metadata": {},
   "outputs": [
    {
     "name": "stderr",
     "output_type": "stream",
     "text": [
      "Labeling data:   0%|          | 0/4861 [00:00<?, ?it/s]"
     ]
    },
    {
     "name": "stderr",
     "output_type": "stream",
     "text": [
      "Labeling data: 100%|██████████| 4861/4861 [00:00<00:00, 6348.54it/s]\n"
     ]
    }
   ],
   "source": [
    "# Find batches with no padding\n",
    "unpadded_batches = np.all(padded_chunks, axis=1)  # True only for batches with all 1s (no padding)\n",
    "\n",
    "# Filter the dataset to keep only completely unpadded batches\n",
    "filtered_data = dataset[unpadded_batches]\n",
    "\n",
    "labels = labeling_oracle.labels(filtered_data)"
   ]
  },
  {
   "cell_type": "code",
   "execution_count": 45,
   "metadata": {},
   "outputs": [
    {
     "data": {
      "text/plain": [
       "((6460, 90, 6), (6460, 90), (4861, 90, 6), {0, 1, 2, 3, 4, 5, 6})"
      ]
     },
     "execution_count": 45,
     "metadata": {},
     "output_type": "execute_result"
    }
   ],
   "source": [
    "dataset.shape, padded_chunks.shape, filtered_data.shape, set(labels)"
   ]
  },
  {
   "cell_type": "code",
   "execution_count": 46,
   "metadata": {},
   "outputs": [
    {
     "data": {
      "text/plain": [
       "((4861, 90, 6), (4861,), (168, 90, 6), (168,))"
      ]
     },
     "execution_count": 46,
     "metadata": {},
     "output_type": "execute_result"
    }
   ],
   "source": [
    "data, l = structure_input_data(filtered_data, labels)\n",
    "filtered_data.shape, labels.shape, data.shape, l.shape"
   ]
  },
  {
   "cell_type": "code",
   "execution_count": 47,
   "metadata": {},
   "outputs": [
    {
     "data": {
      "text/plain": [
       "((7, 24, 90, 6), (168,))"
      ]
     },
     "execution_count": 47,
     "metadata": {},
     "output_type": "execute_result"
    }
   ],
   "source": [
    "d = separate_data_to_class(data, l)\n",
    "d.shape, l.shape # )7, 609, 504"
   ]
  },
  {
   "cell_type": "code",
   "execution_count": 48,
   "metadata": {},
   "outputs": [],
   "source": [
    "def get_initial_conditions(data: np.ndarray):\n",
    "    x, y, vx, vy = data[-1][0], data[-1][1], data[-1][2], data[-1][3]\n",
    "    pos = np.array([x, y])\n",
    "    v = np.array([vx, vy])\n",
    "    return pos, v"
   ]
  },
  {
   "cell_type": "code",
   "execution_count": 49,
   "metadata": {},
   "outputs": [
    {
     "data": {
      "text/plain": [
       "(array([12.42850049, 27.97594641]), array([-1.30031801,  0.03548613]), 90, 4)"
      ]
     },
     "execution_count": 49,
     "metadata": {},
     "output_type": "execute_result"
    }
   ],
   "source": [
    "# Simulate and obtain zonotopes\n",
    "specific_trajectory = data[0]\n",
    "position, velocity = get_initial_conditions(specific_trajectory)\n",
    "position, velocity, config['data_chunk_len'], l[0]"
   ]
  },
  {
   "cell_type": "code",
   "execution_count": 51,
   "metadata": {},
   "outputs": [
    {
     "name": "stdout",
     "output_type": "stream",
     "text": [
      "Area of zonotope:  1159.6141  m^2\n",
      "Area of (baseline) zonotope:  387.6124  m^2\n"
     ]
    },
    {
     "name": "stderr",
     "output_type": "stream",
     "text": [
      "/home/kfragkedaki/miniconda3/envs/pedestrian_project/lib/python3.9/site-packages/descartes/patch.py:62: ShapelyDeprecationWarning: The array interface is deprecated and will no longer work in Shapely 2.0. Convert the '.coords' to a numpy array instead.\n",
      "  vertices = concatenate([\n",
      "/home/kfragkedaki/miniconda3/envs/pedestrian_project/lib/python3.9/site-packages/descartes/patch.py:64: ShapelyDeprecationWarning: The array interface is deprecated and will no longer work in Shapely 2.0. Convert the '.coords' to a numpy array instead.\n",
      "  [asarray(r)[:, :2] for r in t.interiors])\n",
      "/home/kfragkedaki/miniconda3/envs/pedestrian_project/lib/python3.9/site-packages/descartes/patch.py:46: ShapelyDeprecationWarning: Iteration over multi-part geometries is deprecated and will be removed in Shapely 2.0. Use the `geoms` property to access the constituent parts of a multi-part geometry.\n",
      "  polygon = [Polygon(p) for p in polygon]\n"
     ]
    },
    {
     "data": {
      "image/png": "[encoded data removed]",
      "text/plain": [
       "<Figure size 650x413 with 1 Axes>"
      ]
     },
     "metadata": {},
     "output_type": "display_data"
    }
   ],
   "source": [
    "zonotopes = reachability_for_specific_position_and_mode(pos=position, vel=velocity, input_len=config['data_chunk_len'], c=l[0], d=d, sind=labeling_oracle, sim=True)"
   ]
  },
  {
   "cell_type": "markdown",
   "metadata": {},
   "source": [
    "### Other data"
   ]
  },
  {
   "cell_type": "code",
   "execution_count": 6,
   "metadata": {},
   "outputs": [],
   "source": [
    "from src.reachability_analysis.utils import load_data\n",
    "from example_code.data.data_reader import SinD\n"
   ]
  },
  {
   "cell_type": "code",
   "execution_count": 7,
   "metadata": {},
   "outputs": [],
   "source": [
    "input_len = 90\n",
    "num_features =6"
   ]
  },
  {
   "cell_type": "code",
   "execution_count": 8,
   "metadata": {},
   "outputs": [
    {
     "name": "stderr",
     "output_type": "stream",
     "text": [
      "Retreiving input: 100%|██████████| 1654/1654 [00:32<00:00, 51.54it/s]\n",
      "Labeling data: 100%|██████████| 273602/273602 [00:36<00:00, 7488.17it/s]\n"
     ]
    }
   ],
   "source": [
    "sind = SinD()\n",
    "train_data = sind.data(input_len=input_len)\n",
    "train_labels = sind.labels(train_data, input_len=90)\n",
    "specific_trajectory, l_ = train_data[0], train_labels"
   ]
  },
  {
   "cell_type": "code",
   "execution_count": 9,
   "metadata": {},
   "outputs": [],
   "source": [
    "train_data_new = train_data.reshape(train_data.shape[0], num_features, input_len).transpose(0, 2, 1)"
   ]
  },
  {
   "cell_type": "code",
   "execution_count": 10,
   "metadata": {},
   "outputs": [],
   "source": [
    "train_data_, train_labels_ = structure_input_data(train_data_new, train_labels)\n",
    "d_ = separate_data_to_class(train_data_, train_labels_)"
   ]
  },
  {
   "cell_type": "code",
   "execution_count": 11,
   "metadata": {},
   "outputs": [
    {
     "data": {
      "text/plain": [
       "(array([21.22113128, 13.04062956]), array([0.02242433, 1.26726567]), 3)"
      ]
     },
     "execution_count": 11,
     "metadata": {},
     "output_type": "execute_result"
    }
   ],
   "source": [
    "# Simulate and obtain zonotopes\n",
    "position, velocity = np.array([specific_trajectory[0: 90][-1], specific_trajectory[90: 2*90][-1]]), np.array([specific_trajectory[2*90: 3*90][-1], specific_trajectory[3*90: 4*90][-1]])\n",
    "position, velocity, l_[0]"
   ]
  },
  {
   "cell_type": "code",
   "execution_count": 12,
   "metadata": {},
   "outputs": [
    {
     "data": {
      "text/plain": [
       "((273602, 540), (273602,), (5271, 90, 6), (7, 753, 90, 6), (273602,))"
      ]
     },
     "execution_count": 12,
     "metadata": {},
     "output_type": "execute_result"
    }
   ],
   "source": [
    "train_data.shape, train_labels.shape, train_data_.shape, d_.shape, l_.shape"
   ]
  },
  {
   "cell_type": "code",
   "execution_count": 13,
   "metadata": {},
   "outputs": [
    {
     "data": {
      "text/plain": [
       "(array([21.22113128, 13.04062956]),\n",
       " array([0.02242433, 1.26726567]),\n",
       " 90,\n",
       " (7, 753, 90, 6),\n",
       " 3)"
      ]
     },
     "execution_count": 13,
     "metadata": {},
     "output_type": "execute_result"
    }
   ],
   "source": [
    "position, velocity, input_len, d_.shape, l_[0]"
   ]
  },
  {
   "cell_type": "code",
   "execution_count": 14,
   "metadata": {},
   "outputs": [
    {
     "name": "stdout",
     "output_type": "stream",
     "text": [
      "Area of zonotope:  826.9675  m^2\n",
      "Area of (baseline) zonotope:  441.3691  m^2\n"
     ]
    },
    {
     "name": "stderr",
     "output_type": "stream",
     "text": [
      "/home/kfragkedaki/miniconda3/envs/pedestrian_project/lib/python3.9/site-packages/descartes/patch.py:62: ShapelyDeprecationWarning: The array interface is deprecated and will no longer work in Shapely 2.0. Convert the '.coords' to a numpy array instead.\n",
      "  vertices = concatenate([\n",
      "/home/kfragkedaki/miniconda3/envs/pedestrian_project/lib/python3.9/site-packages/descartes/patch.py:64: ShapelyDeprecationWarning: The array interface is deprecated and will no longer work in Shapely 2.0. Convert the '.coords' to a numpy array instead.\n",
      "  [asarray(r)[:, :2] for r in t.interiors])\n",
      "/home/kfragkedaki/miniconda3/envs/pedestrian_project/lib/python3.9/site-packages/descartes/patch.py:46: ShapelyDeprecationWarning: Iteration over multi-part geometries is deprecated and will be removed in Shapely 2.0. Use the `geoms` property to access the constituent parts of a multi-part geometry.\n",
      "  polygon = [Polygon(p) for p in polygon]\n"
     ]
    },
    {
     "data": {
      "image/png": "[encoded data removed]",
      "text/plain": [
       "<Figure size 650x413 with 1 Axes>"
      ]
     },
     "metadata": {},
     "output_type": "display_data"
    }
   ],
   "source": [
    "zonotopes = reachability_for_specific_position_and_mode(pos=position, vel=velocity, input_len=input_len, c=l_[0], d=d_, sind=sind, sim=True)"
   ]
  },
  {
   "cell_type": "code",
   "execution_count": 15,
   "metadata": {},
   "outputs": [],
   "source": [
    "# def reachability_for_specific_position_and_mode(\n",
    "#     pos: np.ndarray = np.array([-3.4, 28.3]),\n",
    "#     c: int = 1,\n",
    "#     vel: np.ndarray = np.array([1, 0]),\n",
    "#     _baseline: bool = True,\n",
    "#     _show_plot: bool = True,\n",
    "#     _ax: plt.Axes = None,\n",
    "#     _labels: list = None,\n",
    "#     _suppress_prints: bool = False,\n",
    "#     _sind_: SinD = None,\n",
    "#     _d: np.ndarray = None,\n",
    "#     sim: bool = False,\n",
    "# ):\n",
    "#     \"\"\"Get reachable set for a specific position, mode and starting velocity\n",
    "\n",
    "#     Parameters:\n",
    "#     -----------\n",
    "#     pos : np.ndarray\n",
    "#     c : int\n",
    "#     vel : np.ndarray\n",
    "#     _baseline : bool\n",
    "#     _show_plot : bool\n",
    "#     _ax : plt.Axes\n",
    "#     _labels : list\n",
    "#     _suppress_prints : bool\n",
    "#     _sind_ : SinD\n",
    "#     _d : np.ndarray\n",
    "#     \"\"\"\n",
    "#     input_len = 90\n",
    "#     a = input_len - 1\n",
    "#     if not _sind_:\n",
    "#         _sind = SinD()\n",
    "#     else:\n",
    "#         _sind = _sind_\n",
    "#     if type(_d) is not np.ndarray:\n",
    "#         if input_len == 90:\n",
    "#             data = load_data()\n",
    "#             labels = load_data(\"sind_labels.pkl\")\n",
    "#             train_data, _, train_labels, _ = split_data(data, labels)\n",
    "#         else:\n",
    "#             data = _sind.data(input_len=input_len)\n",
    "#             labels = _sind.labels(data, input_len=input_len)\n",
    "#             train_data, _, train_labels, _ = split_data(data, labels)\n",
    "#         train_data, train_labels = structure_input_data(train_data, train_labels)\n",
    "#         d = separate_data_to_class(train_data, train_labels)\n",
    "#     else:\n",
    "#         d = _d\n",
    "#     c_z = pos\n",
    "#     G_z = np.array([[2, 0, 1], [0, 2, 0.6]])\n",
    "#     z = zonotope(c_z, G_z)\n",
    "#     v = vel\n",
    "#     U, X_p, X_m, _ = create_io_state(\n",
    "#         d, z, v, c, input_len=input_len, drop_equal=True, angle_filter=True\n",
    "#     )\n",
    "#     process_noise = 0.005\n",
    "#     _, _, U_traj = split_io_to_trajs(X_p, X_m, U, threshold=5, dropped=True, N=a)\n",
    "#     U_k = input_zonotope(U_traj, N=a)\n",
    "#     z_w = zonotope(np.array([0, 0]), process_noise * np.ones(shape=(2, 1)))\n",
    "#     M_w = create_M_w(U.shape[1], z_w, disable_progress_bar=sim)\n",
    "#     G_z = np.array([[0.5, 0, 0.25], [0, 0.5, 0.15]])\n",
    "#     z = zonotope(c_z, G_z)\n",
    "#     R = LTI_reachability(U, X_p, X_m, z, z_w, M_w, U_k, N=a, disable_progress_bar=sim)\n",
    "#     R_all = R\n",
    "#     R = R[-1]\n",
    "#     R.color = [0, 0.6, 0]\n",
    "#     R_base_all = None\n",
    "#     if _baseline:\n",
    "#         U_all, X_p_all, X_m_all, _ = create_io_state(\n",
    "#             d,\n",
    "#             z,\n",
    "#             v,\n",
    "#             [0, 1, 2, 3, 4, 5, 6],\n",
    "#             input_len=input_len,\n",
    "#             drop_equal=True,\n",
    "#             angle_filter=False,\n",
    "#         )\n",
    "#         _, _, U_all_traj = split_io_to_trajs(\n",
    "#             X_p_all, X_m_all, U_all, threshold=5, dropped=True, N=a\n",
    "#         )\n",
    "#         U_k_all = input_zonotope(U_all_traj, N=a) # (list of 89 zonotopes)\n",
    "#         M_w_base = create_M_w(U_all.shape[1], z_w, disable_progress_bar=sim)\n",
    "#         R_base = LTI_reachability(\n",
    "#             U_all,\n",
    "#             X_p_all,\n",
    "#             X_m_all,\n",
    "#             z,\n",
    "#             z_w,\n",
    "#             M_w_base,\n",
    "#             U_k_all,\n",
    "#             N=a,\n",
    "#             disable_progress_bar=sim,\n",
    "#         )\n",
    "#         R_base_all = R_base\n",
    "#         R_base = R_base[-1]\n",
    "#         R_base.color = [0.55, 0.14, 0.14]\n",
    "#     if not _suppress_prints:\n",
    "#         print(\"Area of zonotope: \", round(zonotope_area(R), 4), \" m^2\")\n",
    "#         if _baseline:\n",
    "#             print(\n",
    "#                 \"Area of (baseline) zonotope: \", round(zonotope_area(R_base), 4), \" m^2\"\n",
    "#             )\n",
    "#     z = zonotope(c_z, G_z)\n",
    "#     if not _ax:\n",
    "#         _ax, _ = _sind.map.plot_areas()\n",
    "#     z.color = [1, 1, 55 / 255]\n",
    "#     _zonos = [R_base, R, z] if _baseline else [R, z] # baseline zonotope red, proposed zonotope green, position person blue\n",
    "#     if sim:\n",
    "#         ax = visualize_zonotopes(_zonos, map=_ax, show=False, _labels=_labels)\n",
    "#     else:\n",
    "#         ax = None\n",
    "#     if _show_plot:\n",
    "#         plt.show()\n",
    "#     return ax, _zonos, R_all, R_base_all"
   ]
  },
  {
   "cell_type": "code",
   "execution_count": null,
   "metadata": {},
   "outputs": [],
   "source": [
    "# def split_io_to_trajs(X_p: np.ndarray, X_m: np.ndarray, U: np.ndarray, threshold: float = 0.8, dropped: bool = True, N: int = 30):\n",
    "#     \"\"\" Split the IO state (that drops equal points) into trajectories of different sizes\n",
    "\n",
    "#         Parameters:\n",
    "#         -----------\n",
    "#         X_p : np.ndarray\n",
    "#             X+ data\n",
    "#         X_m : np.ndarray\n",
    "#             X- data\n",
    "#         U : np.ndarray\n",
    "#             Inputs\n",
    "#         threshold : float (default = 0.8)\n",
    "#             Threshold for when regarding two points on the same trajectory\n",
    "#         dropped : bool (default = True)\n",
    "#             Set this to True if the equal points have been dropped from\n",
    "#             the data\n",
    "#         N : int (default = 30)\n",
    "#             Time horizon of the reachability analysis\n",
    "#     \"\"\"\n",
    "#     _X_p, _X_m, _U = [], [], []\n",
    "#     if dropped:\n",
    "#         x_prev = X_p[:,0]\n",
    "#         i_prev = 0\n",
    "#         for i,x in enumerate(X_p[:,1:].T):\n",
    "#             _dist = np.linalg.norm(x-x_prev)\n",
    "#             x_prev = x\n",
    "#             if _dist > threshold:\n",
    "#                 _X_p.append(X_p[:,i_prev:i+1])\n",
    "#                 _X_m.append(X_m[:,i_prev:i+1])\n",
    "#                 _U.append(U[:,i_prev:i+1])\n",
    "#                 i_prev = i+1\n",
    "#     else:\n",
    "#         for i in range(N, U.shape[1]+1, N):\n",
    "#             _U.append(U[:,i-N:i])\n",
    "#     if len(_U) == 0:\n",
    "#         _X_p.append(X_p[:,i_prev:i+1])\n",
    "#         _X_m.append(X_m[:,i_prev:i+1])\n",
    "#         _U.append(U[:,i_prev:i+1])\n",
    "#     return _X_p, _X_m, _U"
   ]
  },
  {
   "cell_type": "code",
   "execution_count": null,
   "metadata": {},
   "outputs": [],
   "source": [
    "#  _, _zonos, R_all, _ = reachability_for_specific_position_and_mode(\n",
    "#                 pos,\n",
    "#                 _mode,\n",
    "#                 vel,\n",
    "#                 _baseline=baseline,\n",
    "#                 _show_plot=False,\n",
    "#                 _ax=ax,\n",
    "#                 _suppress_prints=True,\n",
    "#                 d=d_,\n",
    "#                 sim=simulation,\n",
    "#                 sind=_sind_,\n",
    "#             )"
   ]
  },
  {
   "cell_type": "code",
   "execution_count": null,
   "metadata": {},
   "outputs": [],
   "source": []
  }
 ],
 "metadata": {
  "kernelspec": {
   "display_name": "pedestrian_project",
   "language": "python",
   "name": "python3"
  },
  "language_info": {
   "codemirror_mode": {
    "name": "ipython",
    "version": 3
   },
   "file_extension": ".py",
   "mimetype": "text/x-python",
   "name": "python",
   "nbconvert_exporter": "python",
   "pygments_lexer": "ipython3",
   "version": "3.9.18"
  }
 },
 "nbformat": 4,
 "nbformat_minor": 2
}
